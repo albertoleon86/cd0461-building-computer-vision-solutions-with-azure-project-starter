{
 "cells": [
  {
   "cell_type": "markdown",
   "id": "28023550",
   "metadata": {},
   "source": [
    "### Code showing cutom model used for prediction using our own endpoint URL and probability of object detection for 5 images"
   ]
  },
  {
   "cell_type": "markdown",
   "id": "11c59938",
   "metadata": {},
   "source": [
    "#### Import libraries"
   ]
  },
  {
   "cell_type": "code",
   "execution_count": 68,
   "id": "5a7fb0cb",
   "metadata": {},
   "outputs": [],
   "source": [
    "from msrest.authentication import ApiKeyCredentials\n",
    "from azure.cognitiveservices.vision.customvision.prediction import CustomVisionPredictionClient\n",
    "from azure.storage.blob import (\n",
    "    BlobServiceClient,\n",
    "    generate_blob_sas,\n",
    "    BlobSasPermissions,\n",
    ")\n",
    "from azure.storage.blob import generate_blob_sas, BlobSasPermissions\n",
    "from datetime import datetime, timedelta\n",
    "from azure.cognitiveservices.vision.customvision.prediction.models import ImageUrl\n"
   ]
  },
  {
   "cell_type": "markdown",
   "id": "5461871c",
   "metadata": {},
   "source": [
    "#### Define credentials"
   ]
  },
  {
   "cell_type": "code",
   "execution_count": null,
   "id": "1def8312",
   "metadata": {},
   "outputs": [],
   "source": [
    "ENDPOINT      = 'https://pythonejercicio-prediction.cognitiveservices.azure.com/'\n",
    "PREDICTION_KEY = 'prediction_key_here'  '\n",
    "PROJECT_ID     = \"9b1fa97e-0db3-46ee-93b4-9eead57c48d2\"\n",
    "PUBLISHED_NAME = \"Iteration2\""
   ]
  },
  {
   "cell_type": "code",
   "execution_count": null,
   "id": "f14e2aa2",
   "metadata": {},
   "outputs": [],
   "source": [
    "ACCOUNT_URL     = \"https://001finalproject.blob.core.windows.net/\"\n",
    "ACCOUNT_KEY     = \"account_key_here\"                       \n",
    "CONTAINER_NAME  = \"step4\" \n",
    "BLOB_PREFIX     = \"\"     "
   ]
  },
  {
   "cell_type": "code",
   "execution_count": 72,
   "id": "5d11c8b7",
   "metadata": {},
   "outputs": [
    {
     "name": "stdout",
     "output_type": "stream",
     "text": [
      "▶️ 5 imágenes encontradas.\n"
     ]
    }
   ],
   "source": [
    "blob_service = BlobServiceClient(account_url=ACCOUNT_URL, credential=ACCOUNT_KEY)\n",
    "container    = blob_service.get_container_client(CONTAINER_NAME)\n",
    "\n",
    "def sas_url(blob_name: str) -> str:\n",
    "    sas = generate_blob_sas(\n",
    "        account_name   = blob_service.account_name,\n",
    "        container_name = CONTAINER_NAME,\n",
    "        blob_name      = blob_name,\n",
    "        account_key    = ACCOUNT_KEY,\n",
    "        permission     = BlobSasPermissions(read=True),\n",
    "        expiry         = datetime.utcnow() + timedelta(hours=1),\n",
    "        version        = \"2023-11-03\"   \n",
    "    )\n",
    "    return f\"{ACCOUNT_URL}{CONTAINER_NAME}/{blob_name}?{sas}\"\n",
    "\n",
    "blob_urls = [\n",
    "    sas_url(b.name)\n",
    "    for b in container.list_blobs()\n",
    "    if b.name.lower().endswith((\".jpg\", \".jpeg\", \".png\"))\n",
    "]\n",
    "\n",
    "print(f\"▶️ {len(blob_urls)} imágenes encontradas.\")\n"
   ]
  },
  {
   "cell_type": "code",
   "execution_count": 73,
   "id": "91751cf7",
   "metadata": {},
   "outputs": [
    {
     "name": "stdout",
     "output_type": "stream",
     "text": [
      "\n",
      "📷 lighter_test_set_1of5.jpg\n",
      "   ✅ Lighter → 54.83%\n",
      "   ✅ Lighter → 44.31%\n",
      "   ✅ Lighter → 41.76%\n",
      "   ✅ Lighter → 27.41%\n",
      "\n",
      "📷 lighter_test_set_2of5.jpg\n",
      "   ✅ Lighter → 49.67%\n",
      "   ✅ Lighter → 45.28%\n",
      "   ✅ Lighter → 31.26%\n",
      "   ✅ Lighter → 30.93%\n",
      "\n",
      "📷 lighter_test_set_3of5.jpg\n",
      "   ✅ Lighter → 63.36%\n",
      "   ✅ Lighter → 30.63%\n",
      "   ✅ Lighter → 29.97%\n",
      "\n",
      "📷 lighter_test_set_4of5.jpg\n",
      "   ✅ Lighter → 70.95%\n",
      "   ✅ Lighter → 59.93%\n",
      "\n",
      "📷 lighter_test_set_5of5.jpg\n",
      "   ✅ Lighter → 26.78%\n"
     ]
    }
   ],
   "source": [
    "\n",
    "credentials = ApiKeyCredentials(in_headers={\"Prediction-key\": PREDICTION_KEY})\n",
    "predictor   = CustomVisionPredictionClient(ENDPOINT, credentials)\n",
    "\n",
    "# --- Recorrer blobs e inferir por contenido (NO URL) ---\n",
    "for blob in container.list_blobs():\n",
    "    if not blob.name.lower().endswith((\".jpg\", \".jpeg\", \".png\")):\n",
    "        continue\n",
    "\n",
    "    blob_client = blob_service.get_blob_client(container=CONTAINER_NAME, blob=blob.name)\n",
    "    img_bytes   = blob_client.download_blob().readall()\n",
    "\n",
    "    res = predictor.detect_image(PROJECT_ID, PUBLISHED_NAME, img_bytes)\n",
    "\n",
    "    print(f\"\\n📷 {blob.name}\")\n",
    "    hits = [p for p in res.predictions if p.probability > THRESHOLD]\n",
    "\n",
    "    if not hits:\n",
    "        print(f\"   ❌ Sin objetos > {THRESHOLD:.0%}\")\n",
    "    else:\n",
    "        for p in hits:\n",
    "            print(f\"   ✅ {p.tag_name:7s} → {p.probability:.2%}\")"
   ]
  }
 ],
 "metadata": {
  "kernelspec": {
   "display_name": "Python 3",
   "language": "python",
   "name": "python3"
  },
  "language_info": {
   "codemirror_mode": {
    "name": "ipython",
    "version": 3
   },
   "file_extension": ".py",
   "mimetype": "text/x-python",
   "name": "python",
   "nbconvert_exporter": "python",
   "pygments_lexer": "ipython3",
   "version": "3.11.9"
  }
 },
 "nbformat": 4,
 "nbformat_minor": 5
}
