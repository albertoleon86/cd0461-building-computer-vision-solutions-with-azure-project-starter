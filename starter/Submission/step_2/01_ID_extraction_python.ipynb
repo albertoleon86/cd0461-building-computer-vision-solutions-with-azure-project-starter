{
 "cells": [
  {
   "cell_type": "markdown",
   "id": "e1f82ab5",
   "metadata": {},
   "source": [
    "### PYTHON CODE TO EXTRACT ID INFORMATION"
   ]
  },
  {
   "cell_type": "markdown",
   "id": "27444150",
   "metadata": {},
   "source": [
    "I need to install the required library:\n",
    "\n",
    "!pip install azure-ai-formrecognizer\n",
    "\n",
    "I install azure-storage-blob to generate de SAS codes automatically in Python to access directly to the blob storage directly in step 5\n",
    "\n",
    "!pip install azure-storage-blob"
   ]
  },
  {
   "cell_type": "markdown",
   "id": "ea87b327",
   "metadata": {},
   "source": [
    "#### Import required Libraries"
   ]
  },
  {
   "cell_type": "code",
   "execution_count": 13,
   "id": "b9412d57",
   "metadata": {},
   "outputs": [],
   "source": [
    "import os, json\n",
    "from azure.core.credentials import AzureKeyCredential\n",
    "from azure.ai.formrecognizer import DocumentAnalysisClient\n",
    "from azure.storage.blob import (\n",
    "    BlobSasPermissions,\n",
    "    generate_blob_sas,\n",
    "    BlobServiceClient\n",
    ")\n",
    "from datetime import datetime, timedelta"
   ]
  },
  {
   "cell_type": "markdown",
   "id": "240f40c6",
   "metadata": {},
   "source": [
    "#### Azure authentication"
   ]
  },
  {
   "cell_type": "code",
   "execution_count": null,
   "id": "68ecbbff",
   "metadata": {},
   "outputs": [
    {
     "name": "stdout",
     "output_type": "stream",
     "text": [
      "<azure.ai.formrecognizer._document_analysis_client.DocumentAnalysisClient object at 0x00000174410F3E10>\n"
     ]
    }
   ],
   "source": [
    "endpoint = \"https://document-intelligence-udacity.cognitiveservices.azure.com/\"\n",
    "key      = \"Add your key here\"\n",
    "client   = DocumentAnalysisClient(endpoint, AzureKeyCredential(key))\n",
    "print(client)"
   ]
  },
  {
   "cell_type": "markdown",
   "id": "7b81bac4",
   "metadata": {},
   "source": [
    "#### Azure authentication Blob storage and SAS creation"
   ]
  },
  {
   "cell_type": "code",
   "execution_count": null,
   "id": "10adf676",
   "metadata": {},
   "outputs": [],
   "source": [
    "account_name = \"001finalproject\"\n",
    "account_key = \"Add your key here\"\n",
    "container_name = \"step2\"\n",
    "blob_name = \"digital_id_Alberto_Leon.pdf\""
   ]
  },
  {
   "cell_type": "code",
   "execution_count": 16,
   "id": "25d9b891",
   "metadata": {},
   "outputs": [],
   "source": [
    "# SAS expliry time\n",
    "sas_expiry = datetime.utcnow() + timedelta(hours=1)\n",
    "\n",
    "# URL base\n",
    "blob_url_base = f\"https://{account_name}.blob.core.windows.net/{container_name}/{blob_name}\"\n",
    "\n",
    "# token generation\n",
    "sas_token = generate_blob_sas(\n",
    "    account_name=account_name,\n",
    "    container_name=container_name,\n",
    "    blob_name=blob_name,\n",
    "    account_key=account_key,\n",
    "    permission=BlobSasPermissions(read=True),\n",
    "    expiry=sas_expiry\n",
    ")\n",
    "\n",
    "# Construir la URL completa\n",
    "blob_url_with_sas = f\"{blob_url_base}?{sas_token}\""
   ]
  },
  {
   "cell_type": "code",
   "execution_count": 17,
   "id": "c8ded5b5",
   "metadata": {},
   "outputs": [
    {
     "name": "stdout",
     "output_type": "stream",
     "text": [
      "https://001finalproject.blob.core.windows.net/step2/digital_id_Alberto_Leon.pdf?se=2025-06-23T22%3A01%3A54Z&sp=r&sv=2025-05-05&sr=b&sig=Pke4ZtApI1AHsdYxWcgAHD0FI3f/%2B0oB/C6yPM9a/SA%3D\n"
     ]
    }
   ],
   "source": [
    "print(blob_url_with_sas)"
   ]
  },
  {
   "cell_type": "markdown",
   "id": "870778c5",
   "metadata": {},
   "source": [
    "#### Analysis"
   ]
  },
  {
   "cell_type": "code",
   "execution_count": 19,
   "id": "3e9ec9be",
   "metadata": {},
   "outputs": [
    {
     "name": "stdout",
     "output_type": "stream",
     "text": [
      "{\n",
      "  \"FirstName\": \"Alberto\",\n",
      "  \"LastName\": \"León\",\n",
      "  \"DateOfBirth\": null,\n",
      "  \"DocumentNum\": \"D4587987\"\n",
      "}\n"
     ]
    }
   ],
   "source": [
    "# 1) Analyze the document \n",
    "poller  = client.begin_analyze_document_from_url(\n",
    "            model_id=\"prebuilt-idDocument\",   \n",
    "            document_url=blob_url_with_sas,\n",
    "            locale=\"en-US\"                    \n",
    "          )\n",
    "\n",
    "result = poller.result()\n",
    "\n",
    "# 2) Print the results\n",
    "for doc in result.documents:\n",
    "    fields = doc.fields\n",
    "    data = {\n",
    "        \"FirstName\":   fields.get(\"FirstName\",   {}).value if \"FirstName\"   in fields else None,\n",
    "        \"LastName\":    fields.get(\"LastName\",    {}).value if \"LastName\"    in fields else None,\n",
    "        \"DateOfBirth\": fields.get(\"DateOfBirth\", {}).value if \"DateOfBirth\" in fields else None,\n",
    "        \"DocumentNum\": fields.get(\"DocumentNumber\", {}).value if \"DocumentNumber\" in fields else None,\n",
    "    }\n",
    "    print(json.dumps(data, indent=2, ensure_ascii=False))\n"
   ]
  },
  {
   "cell_type": "code",
   "execution_count": null,
   "id": "6f10ba57",
   "metadata": {},
   "outputs": [],
   "source": []
  }
 ],
 "metadata": {
  "kernelspec": {
   "display_name": "Python 3",
   "language": "python",
   "name": "python3"
  },
  "language_info": {
   "codemirror_mode": {
    "name": "ipython",
    "version": 3
   },
   "file_extension": ".py",
   "mimetype": "text/x-python",
   "name": "python",
   "nbconvert_exporter": "python",
   "pygments_lexer": "ipython3",
   "version": "3.11.9"
  }
 },
 "nbformat": 4,
 "nbformat_minor": 5
}
