{
 "cells": [
  {
   "cell_type": "markdown",
   "id": "e1f82ab5",
   "metadata": {},
   "source": [
    "### PYTHON CODE TO EXTRACT BOARDING PASS INFORMATION"
   ]
  },
  {
   "cell_type": "markdown",
   "id": "ea87b327",
   "metadata": {},
   "source": [
    "#### Import required Libraries"
   ]
  },
  {
   "cell_type": "code",
   "execution_count": 11,
   "id": "b9412d57",
   "metadata": {},
   "outputs": [],
   "source": [
    "import os, json\n",
    "from azure.core.credentials import AzureKeyCredential\n",
    "from azure.ai.formrecognizer import DocumentAnalysisClient\n",
    "from azure.storage.blob import (\n",
    "    BlobSasPermissions,\n",
    "    generate_blob_sas,\n",
    "    BlobServiceClient\n",
    ")\n",
    "from datetime import datetime, timedelta"
   ]
  },
  {
   "cell_type": "markdown",
   "id": "240f40c6",
   "metadata": {},
   "source": [
    "#### Azure authentication"
   ]
  },
  {
   "cell_type": "code",
   "execution_count": null,
   "id": "68ecbbff",
   "metadata": {},
   "outputs": [
    {
     "name": "stdout",
     "output_type": "stream",
     "text": [
      "<azure.ai.formrecognizer._document_analysis_client.DocumentAnalysisClient object at 0x0000024FFCAECE10>\n"
     ]
    }
   ],
   "source": [
    "endpoint = \"https://document-intelligence-udacity.cognitiveservices.azure.com/\"\n",
    "key      = \"YOUR_AZURE_FORM_RECOGNIZER_KEY\"\n",
    "client   = DocumentAnalysisClient(endpoint, AzureKeyCredential(key))\n",
    "print(client)"
   ]
  },
  {
   "cell_type": "markdown",
   "id": "7b81bac4",
   "metadata": {},
   "source": [
    "#### Azure authentication Blob storage and SAS creation"
   ]
  },
  {
   "cell_type": "code",
   "execution_count": null,
   "id": "10adf676",
   "metadata": {},
   "outputs": [],
   "source": [
    "account_name = \"001finalproject\"\n",
    "account_key = \"YOUR_AZURE_STORAGE_ACCOUNT_KEY\"\n",
    "container_name = \"step2\"\n",
    "blob_name = \"boarding-Alberto-Leon.pdf\""
   ]
  },
  {
   "cell_type": "code",
   "execution_count": 14,
   "id": "25d9b891",
   "metadata": {},
   "outputs": [],
   "source": [
    "# SAS expliry time\n",
    "sas_expiry = datetime.utcnow() + timedelta(hours=1)\n",
    "\n",
    "# URL base\n",
    "blob_url_base = f\"https://{account_name}.blob.core.windows.net/{container_name}/{blob_name}\"\n",
    "\n",
    "# token generation\n",
    "sas_token = generate_blob_sas(\n",
    "    account_name=account_name,\n",
    "    container_name=container_name,\n",
    "    blob_name=blob_name,\n",
    "    account_key=account_key,\n",
    "    permission=BlobSasPermissions(read=True),\n",
    "    expiry=sas_expiry\n",
    ")\n",
    "\n",
    "# Construir la URL completa\n",
    "blob_url_with_sas = f\"{blob_url_base}?{sas_token}\""
   ]
  },
  {
   "cell_type": "markdown",
   "id": "870778c5",
   "metadata": {},
   "source": [
    "#### Analysis"
   ]
  },
  {
   "cell_type": "code",
   "execution_count": 16,
   "id": "3e9ec9be",
   "metadata": {},
   "outputs": [
    {
     "name": "stdout",
     "output_type": "stream",
     "text": [
      "Extracted boarding pass fields:\n",
      "PassengerName: Alberto León (confidence: 0.94)\n",
      "Carrier: UA (confidence: 0.96)\n",
      "Flight No.: 234 (confidence: 0.97)\n",
      "Class: E (confidence: 0.96)\n",
      "From: San Francisco (confidence: 0.95)\n",
      "To: Chicago (confidence: 0.97)\n",
      "Seat: 20B (confidence: 0.97)\n",
      "Date: April 20, 2022 (confidence: 0.94)\n",
      "Boarding Time: 10:00 AM PST (confidence: 0.91)\n",
      "Gate: G1 (confidence: 0.97)\n",
      "Baggage: NO (confidence: 0.96)\n"
     ]
    }
   ],
   "source": [
    "# 1) Analyze the document \n",
    "poller  = client.begin_analyze_document_from_url(\n",
    "            model_id=\"Boarding_pass_data_extractor\",   \n",
    "            document_url=blob_url_with_sas,\n",
    "            locale=\"en-US\"                    \n",
    "          )\n",
    "\n",
    "result = poller.result()\n",
    "\n",
    "# 2) Print the results\n",
    "\n",
    "for doc in result.documents:\n",
    "    print(\"Extracted boarding pass fields:\")\n",
    "    for field, value in doc.fields.items():\n",
    "        print(f\"{field}: {value.value} (confidence: {value.confidence:.2f})\")\n"
   ]
  },
  {
   "cell_type": "code",
   "execution_count": null,
   "id": "6f10ba57",
   "metadata": {},
   "outputs": [],
   "source": []
  }
 ],
 "metadata": {
  "kernelspec": {
   "display_name": "Python 3",
   "language": "python",
   "name": "python3"
  },
  "language_info": {
   "codemirror_mode": {
    "name": "ipython",
    "version": 3
   },
   "file_extension": ".py",
   "mimetype": "text/x-python",
   "name": "python",
   "nbconvert_exporter": "python",
   "pygments_lexer": "ipython3",
   "version": "3.11.9"
  }
 },
 "nbformat": 4,
 "nbformat_minor": 5
}
