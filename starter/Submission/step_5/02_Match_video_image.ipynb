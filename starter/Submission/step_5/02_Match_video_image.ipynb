{
 "cells": [
  {
   "cell_type": "markdown",
   "id": "fc6d1aad",
   "metadata": {},
   "source": [
    "I cannot access to this resource at Europe with free tier"
   ]
  }
 ],
 "metadata": {
  "language_info": {
   "name": "python"
  }
 },
 "nbformat": 4,
 "nbformat_minor": 5
}
