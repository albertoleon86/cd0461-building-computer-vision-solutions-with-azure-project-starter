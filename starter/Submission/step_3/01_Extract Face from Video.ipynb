{
 "cells": [
  {
   "cell_type": "markdown",
   "id": "3a0a15c9",
   "metadata": {},
   "source": [
    "### Extract Face from Video\n"
   ]
  },
  {
   "cell_type": "markdown",
   "id": "94bffdb5",
   "metadata": {},
   "source": [
    "#### Import required libraries"
   ]
  },
  {
   "cell_type": "code",
   "execution_count": 1,
   "id": "2c918c2a",
   "metadata": {},
   "outputs": [],
   "source": [
    "from azure.storage.blob import BlobServiceClient, ContentSettings"
   ]
  },
  {
   "cell_type": "markdown",
   "id": "950b9dee",
   "metadata": {},
   "source": [
    "#### Account credentials"
   ]
  },
  {
   "cell_type": "code",
   "execution_count": null,
   "id": "d1b0d32d",
   "metadata": {},
   "outputs": [],
   "source": [
    "connect_str = \"Enter your Azure Storage connection string here\"\n",
    "container_name = \"step3\"\n",
    "file_path = r\"C:\\Users\\usuario\\Documents\\Alberto\\cd0461-building-computer-vision-solutions-with-azure-project-starter\\starter\\Submission\\material_preparation_step\\video_face_recognition.mp4\"\n",
    "blob_name = \"video_face_recognition.mp4\""
   ]
  },
  {
   "cell_type": "markdown",
   "id": "36bbeec2",
   "metadata": {},
   "source": [
    "#### Video upload"
   ]
  },
  {
   "cell_type": "code",
   "execution_count": 5,
   "id": "dc7f3186",
   "metadata": {},
   "outputs": [
    {
     "name": "stdout",
     "output_type": "stream",
     "text": [
      "Video Uploaded: https://001finalproject.blob.core.windows.net/step3/video_face_recognition.mp4\n"
     ]
    }
   ],
   "source": [
    "blob_service_client = BlobServiceClient.from_connection_string(connect_str)\n",
    "blob_client = blob_service_client.get_blob_client(container=container_name, blob=blob_name)\n",
    "\n",
    "with open(file_path, \"rb\") as data:\n",
    "    blob_client.upload_blob(\n",
    "        data,\n",
    "        overwrite=True,\n",
    "        content_settings=ContentSettings(content_type='video/mp4')\n",
    "    )\n",
    "\n",
    "print(f\"Video Uploaded: {blob_client.url}\")"
   ]
  }
 ],
 "metadata": {
  "kernelspec": {
   "display_name": "Python 3",
   "language": "python",
   "name": "python3"
  },
  "language_info": {
   "codemirror_mode": {
    "name": "ipython",
    "version": 3
   },
   "file_extension": ".py",
   "mimetype": "text/x-python",
   "name": "python",
   "nbconvert_exporter": "python",
   "pygments_lexer": "ipython3",
   "version": "3.11.9"
  }
 },
 "nbformat": 4,
 "nbformat_minor": 5
}
